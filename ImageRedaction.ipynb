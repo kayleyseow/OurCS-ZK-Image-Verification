{
  "nbformat": 4,
  "nbformat_minor": 0,
  "metadata": {
    "colab": {
      "provenance": []
    },
    "kernelspec": {
      "name": "python3",
      "display_name": "Python 3"
    },
    "language_info": {
      "name": "python"
    }
  },
  "cells": [
    {
      "cell_type": "code",
      "source": [
        "!pip install ecdsa"
      ],
      "metadata": {
        "colab": {
          "base_uri": "https://localhost:8080/"
        },
        "id": "cogNEjbpmwpq",
        "outputId": "dd0242b7-1bf7-40aa-a90f-b332e426e0cf"
      },
      "execution_count": null,
      "outputs": [
        {
          "output_type": "stream",
          "name": "stdout",
          "text": [
            "Collecting ecdsa\n",
            "  Downloading ecdsa-0.19.0-py2.py3-none-any.whl.metadata (29 kB)\n",
            "Requirement already satisfied: six>=1.9.0 in /usr/local/lib/python3.10/dist-packages (from ecdsa) (1.16.0)\n",
            "Downloading ecdsa-0.19.0-py2.py3-none-any.whl (149 kB)\n",
            "\u001b[?25l   \u001b[90m━━━━━━━━━━━━━━━━━━━━━━━━━━━━━━━━━━━━━━━━\u001b[0m \u001b[32m0.0/149.3 kB\u001b[0m \u001b[31m?\u001b[0m eta \u001b[36m-:--:--\u001b[0m\r\u001b[2K   \u001b[90m━━━━━━━━━━━━━━━━━━━━━━━━━━━━━━━━━━━━━━━━\u001b[0m \u001b[32m149.3/149.3 kB\u001b[0m \u001b[31m12.5 MB/s\u001b[0m eta \u001b[36m0:00:00\u001b[0m\n",
            "\u001b[?25hInstalling collected packages: ecdsa\n",
            "Successfully installed ecdsa-0.19.0\n"
          ]
        }
      ]
    },
    {
      "cell_type": "code",
      "source": [
        "from ecdsa import SigningKey\n",
        "import json\n",
        "import base64\n",
        "# import ed25519\n",
        "from cryptography.hazmat.primitives.asymmetric.ed25519 import Ed25519PrivateKey\n",
        "from cryptography.hazmat.primitives import serialization"
      ],
      "metadata": {
        "id": "5r4fVWQWmmv7"
      },
      "execution_count": null,
      "outputs": []
    },
    {
      "cell_type": "code",
      "source": [
        "# change to eddsa\n",
        "\n",
        "# convert img to json\n",
        "photo = {}\n",
        "with open('cat_img.jpg', mode='rb') as file:\n",
        "    img = file.read()\n",
        "photo['img'] = base64.encodebytes(img).decode('utf-8')\n",
        "\n",
        "sk = Ed25519PrivateKey.generate()\n",
        "\n",
        "byte_message = json.dumps(photo)\n",
        "signature = sk.sign(b\"byte_message\")\n",
        "\n",
        "pk = sk.public_key()\n",
        "\n",
        "print(\"secret key: \", sk)\n",
        "print(\"public key: \", pk.public_bytes(encoding=serialization.Encoding.Raw,format=serialization.PublicFormat.Raw ))\n",
        "print(\"signature: \", signature)"
      ],
      "metadata": {
        "colab": {
          "base_uri": "https://localhost:8080/"
        },
        "id": "EwROI6pfmpq9",
        "outputId": "e51cc2ad-178e-4d61-8ae5-5b41e151f186"
      },
      "execution_count": null,
      "outputs": [
        {
          "output_type": "stream",
          "name": "stdout",
          "text": [
            "secret key:  <cryptography.hazmat.bindings._rust.openssl.ed25519.Ed25519PrivateKey object at 0x7e5a080bdc70>\n",
            "public key:  b'\\xc4Zs\\xaf{\\x11\\xb3\\xcc4h\\xf4\\x87+\"\\xf4\\x85\\xd86\\x8e\\x1c\\x86\\xc2\\xa4h\\x1e\\x13L\\xd5A\\x9a\\xa4\\xce'\n",
            "signature:  b'7v,\\x1f`\\x19\\xe4I\\x90\\xb9:82\\xc0\\xb0\\xe4\\xf5\\xfdY\\xb2\\xf2\\x07\\x15\\xa0\\\\\\xf3\\xd2\\xe7g\\xf7\\xbd\\xec\\x0c?\\xe6\\x8faN\\x12\\xd2\\xe0c.$UI\\x11\\xcc\\x9b\\x89EZ#+\\x07\\xbe\\x91\\x9e\\xb5q//\\xbc\\x0e'\n"
          ]
        }
      ]
    },
    {
      "cell_type": "code",
      "execution_count": null,
      "metadata": {
        "colab": {
          "base_uri": "https://localhost:8080/"
        },
        "id": "TPsvLy81c7XY",
        "outputId": "e5ada803-1388-4d52-9653-3947d6b99ef1"
      },
      "outputs": [
        {
          "output_type": "stream",
          "name": "stdout",
          "text": [
            "Requirement already satisfied: Pillow in /usr/local/lib/python3.10/dist-packages (10.4.0)\n"
          ]
        }
      ],
      "source": [
        "# image redaction with python: i want to input an image, and using pypi,\n",
        "# manipulate the image so I can redact certain portions of the image\n",
        "\n",
        "!pip install Pillow"
      ]
    },
    {
      "cell_type": "code",
      "source": [
        "from PIL import Image, ImageDraw\n",
        "import os"
      ],
      "metadata": {
        "id": "8xg08mRngT7s"
      },
      "execution_count": null,
      "outputs": []
    },
    {
      "cell_type": "code",
      "source": [
        "def get_image_info(image_path):\n",
        "    with Image.open(image_path) as img:\n",
        "        print(f\"Format: {img.format}\")\n",
        "        print(f\"Size (width x height): {img.size}\")\n",
        "        print(f\"Mode: {img.mode}\")\n",
        "\n",
        "        width, height = img.size\n",
        "        print(f\"Width: {width}\")\n",
        "        print(f\"Height: {height}\")\n",
        "\n",
        "get_image_info('cat_img.jpg')"
      ],
      "metadata": {
        "colab": {
          "base_uri": "https://localhost:8080/"
        },
        "id": "N7dTNQc6dOvb",
        "outputId": "931621fb-ab63-4b7d-c4dc-ceb602cceb41"
      },
      "execution_count": null,
      "outputs": [
        {
          "output_type": "stream",
          "name": "stdout",
          "text": [
            "Format: JPEG\n",
            "Size (width x height): (736, 920)\n",
            "Mode: RGB\n",
            "Width: 736\n",
            "Height: 920\n"
          ]
        }
      ]
    },
    {
      "cell_type": "code",
      "source": [
        "def redact_image(image_path, output_path, redaction_areas):\n",
        "    with Image.open(image_path) as img:\n",
        "        img = img.convert(\"L\")\n",
        "        greyscalePath = f\"{os.path.splitext(imagePath)[0]}_greyed.png\"\n",
        "        img.save(greyscalePath)\n",
        "        print (\"converted to greyscale\")\n",
        "        draw = ImageDraw.Draw(img)\n",
        "\n",
        "        for area in redaction_areas:\n",
        "            draw.rectangle(area, fill=\"black\")\n",
        "\n",
        "        img.save(output_path)\n",
        "\n",
        "redaction_areas = [(150, 350, 600, 825)]\n",
        "imagePath = 'cat_low_res_img.png'\n",
        "outputPath = f\"{os.path.splitext(imagePath)[0]}_redacted.png\"\n",
        "redact_image(imagePath, outputPath, redaction_areas)\n",
        "print(\"redaction done\")"
      ],
      "metadata": {
        "colab": {
          "base_uri": "https://localhost:8080/"
        },
        "id": "Mt99_MD6fTk5",
        "outputId": "11d40045-0b91-472e-fce5-3140eaac0731"
      },
      "execution_count": null,
      "outputs": [
        {
          "output_type": "stream",
          "name": "stdout",
          "text": [
            "converted to greyscale\n",
            "redaction done\n"
          ]
        }
      ]
    },
    {
      "cell_type": "code",
      "source": [
        "import numpy as np\n",
        "\n",
        "image = Image.open('cat_low_res_img.png')\n",
        "\n",
        "image_array = np.array(image)\n",
        "\n",
        "print(\"Original Image Array Shape:\", image_array.shape)\n",
        "\n",
        "comma_separated_string = np.array2string(flattened_image_array, separator=',', suppress_small=True, formatter={'float_kind': lambda x: f'{int(x)}'})\n",
        "\n",
        "# Remove brackets and spaces\n",
        "comma_separated_string = comma_separated_string.replace('[', '').replace(']', '').replace(' ', '')\n",
        "\n",
        "# Print the comma-separated string\n",
        "print(\"Comma-Separated String:\", comma_separated_string)"
      ],
      "metadata": {
        "colab": {
          "base_uri": "https://localhost:8080/"
        },
        "id": "aHJt7elFn4fw",
        "outputId": "378cbc23-47cc-496c-f360-a7d4185f8824"
      },
      "execution_count": null,
      "outputs": [
        {
          "output_type": "stream",
          "name": "stdout",
          "text": [
            "Original Image Array Shape: (16, 16)\n",
            "Comma-Separated String: 0,0,0,1,0,0,0,0,0,0,0,0,1,0,0,0,0,38,37,0,0,1,0,0,\n",
            "0,0,0,0,0,14,50,30,0,51,50,13,75,0,0,3,1,3,1,75,38,10,63,15,\n",
            "0,44,44,34,10,43,17,4,4,8,40,17,35,59,36,14,0,6,59,79,48,2,21,67,\n",
            "53,2,33,2,91,32,64,0,0,0,35,31,28,32,8,4,2,55,29,36,93,33,35,3,\n",
            "0,15,87,88,86,78,77,21,48,29,11,65,65,94,66,14,30,10,34,9,9,32,81,17,\n",
            "12,28,90,58,11,34,66,15,3,82,61,2,12,31,40,4,8,57,57,12,53,61,62,13,\n",
            "13,27,29,33,8,12,21,4,2,52,28,31,55,92,60,75,13,54,84,10,6,43,52,62,\n",
            "80,60,83,64,36,56,63,0,25,23,16,26,26,41,27,76,56,45,18,49,27,5,51,6,\n",
            "85,6,25,39,24,18,47,20,5,19,5,42,22,89,15,13,30,75,23,26,74,46,20,7,\n",
            "58,7,9,7,42,49,47,54,0,37,6,68,16,18,19,46,22,11,7,9,22,45,24,23,\n",
            "70,25,71,41,69,16,72,19,5,20,11,5,73,18,39,0\n"
          ]
        }
      ]
    },
    {
      "cell_type": "code",
      "source": [],
      "metadata": {
        "id": "zQXaFoyerjSS"
      },
      "execution_count": null,
      "outputs": []
    }
  ]
}